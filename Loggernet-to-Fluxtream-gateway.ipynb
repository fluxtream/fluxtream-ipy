{
 "metadata": {
  "name": "",
  "signature": "sha256:8c3f9db2d619e95e8fe2a278f8aaa5a376dc220b253c2b9f805738451339008c"
 },
 "nbformat": 3,
 "nbformat_minor": 0,
 "worksheets": [
  {
   "cells": [
    {
     "cell_type": "code",
     "collapsed": false,
     "input": [
      "import datetime, math, time"
     ],
     "language": "python",
     "metadata": {},
     "outputs": [],
     "prompt_number": 1
    },
    {
     "cell_type": "code",
     "collapsed": false,
     "input": [
      "def exec_ipynb(url):\n",
      "    import json, re, urllib2\n",
      "    nb = (urllib2.urlopen(url) if re.match(r'https?:', url) else open(url)).read()\n",
      "    exec '\\n'.join([''.join(cell['input']) for cell in json.loads(nb)['worksheets'][0]['cells'] if cell['cell_type'] == 'code']) in globals()\n",
      "\n",
      "exec_ipynb('Fluxtream-Library.ipynb')\n",
      "fluxtream_login()"
     ],
     "language": "python",
     "metadata": {},
     "outputs": [
      {
       "html": [
        "\n",
        "Fluxtream username: <input id=\"fluxtream_username\" type=\"text\"></input><br>\n",
        "Fluxtream password: <input id=\"fluxtream_password\" type=\"password\"></input><br>\n",
        "<button id = \"fluxtream_authenticate\">Authenticate</button> <span id=\"fluxtream_auth_result\"></span>\n",
        "<script>\n",
        "\n",
        "// Send username and password to python\n",
        "function fluxtream_authenticate(username, password, callback) {\n",
        "  cmd =  'fluxtream_authenticate(' + JSON.stringify(username) + ',' +\n",
        "         JSON.stringify(password) + ')'\n",
        "  console.log(cmd);\n",
        "  function cb(msg) {\n",
        "    console.log(msg);\n",
        "    console.log(msg.content.data['text/plain'] == 'True');\n",
        "    callback(msg.content.data['text/plain'] == 'True')\n",
        "  }\n",
        "  IPython.notebook.kernel.execute(cmd, \n",
        "                                  {iopub: {output: cb}}, {silent: false});\n",
        "}\n",
        "\n",
        "$('#fluxtream_authenticate').click(function() {\n",
        "    $('#fluxtream_auth_result').text('...');\n",
        "    fluxtream_authenticate($('#fluxtream_username').val(),\n",
        "                           $('#fluxtream_password').val(),\n",
        "                           function(success) {\n",
        "                             $('#fluxtream_auth_result').text(success ? 'Success' : 'Failed');\n",
        "                           });\n",
        "});\n",
        "</script>\n"
       ],
       "metadata": {},
       "output_type": "pyout",
       "prompt_number": 2,
       "text": [
        "<IPython.core.display.HTML at 0x3f07d30>"
       ]
      }
     ],
     "prompt_number": 2
    },
    {
     "cell_type": "code",
     "collapsed": false,
     "input": [
      "sites = {\n",
      "  'CascadeLakeData':  'c:\\\\Campbellsci\\\\LoggerNet\\\\CR1000 - Cascade Wifi_LakeData.dat',\n",
      "  'DollarPointLakeData': 'c:\\\\Campbellsci\\\\LoggerNet\\\\CR1000 - NS Dollar Point Modem_LakeData.dat',\n",
      "  'HomewoodLakeData':  'c:\\\\Campbellsci\\\\Loggernet\\\\CR1000 - NS Homewood Modem_LakeData.dat',\n",
      "  'MeeksLakeData':  'c:\\\\Campbellsci\\\\LoggerNet\\\\CR1000 - NS Meeks Modem_LakeData.dat',\n",
      "  'RubiconLakeData':  'c:\\\\Campbellsci\\\\LoggerNet\\\\CR1000 - NS Rubicon Modem_LakeData.dat'\n",
      "}"
     ],
     "language": "python",
     "metadata": {},
     "outputs": [],
     "prompt_number": 3
    },
    {
     "cell_type": "code",
     "collapsed": false,
     "input": [
      "def sync_site(sitename):\n",
      "    device = sitename\n",
      "\n",
      "    sources_list = fluxtream_get_sources_list(fluxtream_guest_id)\n",
      "\n",
      "    reader = csv.reader(open(sites[sitename]))\n",
      "    reader.next() # skip the header\n",
      "    columns = reader.next()\n",
      "    units = reader.next()\n",
      "    type = reader.next()\n",
      "    full_columns = [columns[i] + '_' + units[i].replace('/', '_per_') for i in range(0, len(columns))]\n",
      "    full_columns = full_columns[1:]\n",
      "\n",
      "    start = (datetime.datetime.now() - datetime.datetime(1970, 1, 1)).total_seconds()\n",
      "\n",
      "    for channel in full_columns:\n",
      "        info = fluxtream_get_channel_info(device, channel, sources_list)\n",
      "        if info:\n",
      "            start = min(start, info['max_time'])\n",
      "        else:\n",
      "            start = 0\n",
      "        \n",
      "    records = []\n",
      "    for record in reader:\n",
      "        time = datetime.datetime.strptime(record[0], '%Y-%m-%d %H:%M:%S')\n",
      "        epoch_time = (time - datetime.datetime(1970, 1, 1)).total_seconds()\n",
      "        if epoch_time > start:\n",
      "            f = [float(x) for x in record[1:]]\n",
      "            non_nan = [None if math.isnan(val) else val for val in f]\n",
      "            records.append([epoch_time] + non_nan)\n",
      "    if len(records) == 0:\n",
      "        print '%s: No new data' % sitename\n",
      "    else:\n",
      "        print '%s: Uploading %d records of %d channels each' % (sitename, len(records), len(records[0]) - 1)\n",
      "        fluxtream_upload(device, full_columns, records)"
     ],
     "language": "python",
     "metadata": {},
     "outputs": [],
     "prompt_number": 4
    },
    {
     "cell_type": "code",
     "collapsed": false,
     "input": [
      "for sitename in sites:\n",
      "    sync_site(sitename)"
     ],
     "language": "python",
     "metadata": {},
     "outputs": [
      {
       "output_type": "stream",
       "stream": "stdout",
       "text": [
        "MeeksLakeData: Uploading 84 records of 10 channels each\n",
        "Uploading 84 data points to derekrob's account on server fluxtream.org, device MeeksLakeData, channels ['RECORD_RN', 'LS_Conductivity_Avg_mS_per_cm', 'LS_Temp_Avg_C', 'LS_RawPressure_Avg_dBar', 'LS_Chlorophyll_Avg_RFUB', 'LS_CDOM_Avg_RFUB', 'LS_Turbidity_Avg_NTU', 'LakeSensor_BattV_Min_V', 'BP_mmHg_mmHg', 'Depth_m4C_Avg_mH2O_4C']\n",
        "DollarPointLakeData: Uploading 85 records of 10 channels each"
       ]
      },
      {
       "output_type": "stream",
       "stream": "stdout",
       "text": [
        "\n",
        "Uploading 85 data points to derekrob's account on server fluxtream.org, device DollarPointLakeData, channels ['RECORD_RN', 'LS_Conductivity_Avg_mS_per_cm', 'LS_Temp_Avg_C', 'LS_RawPressure_Avg_dBar', 'LS_Chlorophyll_Avg_RFUB', 'LS_CDOM_Avg_RFUB', 'LS_Turbidity_Avg_NTU', 'LakeSensor_BattV_Min_V', 'BP_mmHg_mmHg', 'Depth_m4C_Avg_mH2O_4C']\n",
        "CascadeLakeData: Uploading 85 records of 10 channels each"
       ]
      },
      {
       "output_type": "stream",
       "stream": "stdout",
       "text": [
        "\n",
        "Uploading 85 data points to derekrob's account on server fluxtream.org, device CascadeLakeData, channels ['RECORD_RN', 'LS_Conductivity_Avg_mS_per_cm', 'LS_Temp_Avg_C', 'LS_RawPressure_Avg_dBar', 'LS_Chlorophyll_Avg_RFUB', 'LS_CDOM_Avg_RFUB', 'LS_Turbidity_Avg_NTU', 'LakeSensor_BattV_Min_V', 'BP_mmHg_mmHg', 'Depth_m4C_Avg_mH2O_4C']\n",
        "RubiconLakeData: Uploading 84 records of 10 channels each"
       ]
      },
      {
       "output_type": "stream",
       "stream": "stdout",
       "text": [
        "\n",
        "Uploading 84 data points to derekrob's account on server fluxtream.org, device RubiconLakeData, channels ['RECORD_RN', 'LS_Conductivity_Avg_mS_per_cm', 'LS_Temp_Avg_C', 'LS_RawPressure_Avg_dBar', 'LS_Chlorophyll_Avg_RFUB', 'LS_CDOM_Avg_RFUB', 'LS_Turbidity_Avg_NTU', 'LakeSensor_BattV_Min_V', 'BP_mmHg_mmHg', 'Depth_m4C_Avg_mH2O_4C']\n",
        "HomewoodLakeData: Uploading 85 records of 10 channels each"
       ]
      },
      {
       "output_type": "stream",
       "stream": "stdout",
       "text": [
        "\n",
        "Uploading 85 data points to derekrob's account on server fluxtream.org, device HomewoodLakeData, channels ['RECORD_RN', 'LS_Conductivity_Avg_mS_per_cm', 'LS_Temp_Avg_C', 'LS_RawPressure_Avg_dBar', 'LS_Chlorophyll_Avg_RFUB', 'LS_CDOM_Avg_RFUB', 'LS_Turbidity_Avg_NTU', 'LakeSensor_BattV_Min_V', 'BP_mmHg_mmHg', 'Depth_m4C_Avg_mH2O_4C']\n"
       ]
      }
     ],
     "prompt_number": 6
    },
    {
     "cell_type": "code",
     "collapsed": false,
     "input": [],
     "language": "python",
     "metadata": {},
     "outputs": []
    }
   ],
   "metadata": {}
  }
 ]
}