{
 "metadata": {
  "name": "",
  "signature": "sha256:67d49c6911661391c7559161803dad8ab566b4fac358fc656b511d579144849c"
 },
 "nbformat": 3,
 "nbformat_minor": 0,
 "worksheets": [
  {
   "cells": [
    {
     "cell_type": "markdown",
     "metadata": {},
     "source": [
      "SnoreLab to Fluxtream gateway\n",
      "============================="
     ]
    },
    {
     "cell_type": "markdown",
     "metadata": {},
     "source": [
      "SnoreLab is an excellent iOS application which records audio during sleeptime, and lets you view and\n",
      "listen to your snoring.\n",
      "\n",
      "This gateway lets you upload SnoreLab data to Fluxtream.org"
     ]
    },
    {
     "cell_type": "code",
     "collapsed": false,
     "input": [
      "import glob, os\n",
      "from IPython.display import HTML"
     ],
     "language": "python",
     "metadata": {},
     "outputs": [],
     "prompt_number": 13
    },
    {
     "cell_type": "code",
     "collapsed": false,
     "input": [
      "def exec_ipynb(url):\n",
      "    import json, re, urllib2\n",
      "    nb = (urllib2.urlopen(url) if re.match(r'https?:', url) else open(url)).read()\n",
      "    exec '\\n'.join([''.join(cell['input']) for cell in json.loads(nb)['worksheets'][0]['cells'] if cell['cell_type'] == 'code']) in globals()\n",
      "\n",
      "exec_ipynb('Fluxtream-Library.ipynb')\n",
      "fluxtream_login()"
     ],
     "language": "python",
     "metadata": {},
     "outputs": [],
     "prompt_number": 14
    },
    {
     "cell_type": "markdown",
     "metadata": {},
     "source": [
      "SnoreLab interface\n",
      "------------------"
     ]
    },
    {
     "cell_type": "code",
     "collapsed": false,
     "input": [
      "def epoch_time(dt):\n",
      "    epoch = datetime.datetime(1970, 1, 1, tzinfo=tz.tzutc())\n",
      "    return (dt - epoch).total_seconds()    \n",
      "\n",
      "# Returns 2D array of data suitable for posting to Fluxtream API\n",
      "def snorelab_history_csv_to_post_data(filename):\n",
      "    reader = csv.reader(open(filename,'rb'), delimiter=',')\n",
      "\n",
      "    # skip 4 rows of headers\n",
      "    for i in range(0,5):\n",
      "        header = reader.next()\n",
      "\n",
      "    rowcount = 0;\n",
      "    data = []\n",
      "    \n",
      "    for row in reader:\n",
      "        # In snorelab, the zeroth column is the date of the start of sleep, the first column is the time of start \n",
      "        # of sleep, and the second column is the time of end of sleep.  If time of end of sleep < time of start of sleep\n",
      "        # then the date of end of sleep is going to be the following day.  \n",
      "        start_date_str= row[0]\n",
      "        start_time_str= row[1]\n",
      "        end_time_str = row[2]\n",
      "        start_dt = datetime.datetime.strptime(\"%s %s\" % (start_date_str, start_time_str), '%d-%b-%Y %H:%M').replace(tzinfo=tz.tzlocal())\n",
      "        end_dt = datetime.datetime.strptime(\"%s %s\" % (start_date_str, end_time_str), '%d-%b-%Y %H:%M').replace(tzinfo=tz.tzlocal())\n",
      "        \n",
      "        if(end_dt<start_dt):\n",
      "            end_dt += datetime.timedelta(days=1)\n",
      "            \n",
      "        snorescore=float(row[6])\n",
      "        comment = row[9]\n",
      "        data.append([epoch_time(end_dt), snorescore, comment])\n",
      "\n",
      "    return data\n",
      "\n",
      "def snorelab_parse_report(report_dir):\n",
      "    report_filenames = glob.glob(report_dir + '/SnoreLab Chart Points*csv')\n",
      "    if len(report_filenames) != 1:\n",
      "        raise Exception('Should have found exactly one report in %s but found %d' %\n",
      "            (report_dir, len(report_filenames)))\n",
      "    report_filename = report_filenames[0]\n",
      "\n",
      "    data = []\n",
      "\n",
      "    for row in csv.reader(open(report_filename)):\n",
      "        data.append([float(x) for x in row])\n",
      "\n",
      "    print 'Snore report is %.1f hours long and has %d samples' % ((data[-1][0] - data[0][0]) / 3600.0, len(data))\n",
      "    return data"
     ],
     "language": "python",
     "metadata": {},
     "outputs": [],
     "prompt_number": 16
    },
    {
     "cell_type": "markdown",
     "metadata": {},
     "source": [
      "Pull data from Snorelab Email\n",
      "=============================\n",
      "Email yourself a Snorelab Snore Report and (in gmail) download all attachments into ~/Downloads.  (Downloading all attachments in gmail should create a zipfile)\n",
      "\n",
      "Next, evaluate the following to copy and upload the zipfiles"
     ]
    },
    {
     "cell_type": "code",
     "collapsed": false,
     "input": [
      "### Unzip and archive downloaded zipfiles\n",
      "\n",
      "download_dir = os.path.expanduser('~/Downloads/')\n",
      "snorelab_reports_dir = 'snorelab-reports'\n",
      "report_pattern = 'snorelab*[0-9][0-9][0-9][0-9]'\n",
      "download_pattern = download_dir + report_pattern + '.zip'\n",
      "zips = glob.glob(download_pattern)\n",
      "\n",
      "print 'Looking for files of pattern %s;  found %d' % (download_pattern, len(zips))\n",
      "for zip in zips:\n",
      "    dest = snorelab_reports_dir + '/' + os.path.basename(os.path.splitext(zip)[0])\n",
      "    if os.path.exists(dest):\n",
      "        print '  %s already exists' % dest\n",
      "    else:\n",
      "        subprocess.check_output(['unzip', zip, '-d', dest + '.tmp'])\n",
      "        os.rename(dest + '.tmp', dest)\n",
      "        print '  Created %s (%d files)' % (dest, len(glob.glob(dest + '/*')))\n",
      "\n",
      "### Upload reports\n",
      "\n",
      "report_dirs = glob.glob(snorelab_reports_dir + '/' + report_pattern)\n",
      "print '\\nUploading new reports'\n",
      "for report_dir in report_dirs:\n",
      "    was_uploaded_path = report_dir + '/uploaded-to-fluxtream'\n",
      "    if os.path.exists(was_uploaded_path):\n",
      "        print '  %s already uploaded' % report_dir\n",
      "    else:\n",
      "        print '  Uploading %s' % report_dir\n",
      "        data = snorelab_parse_report(report_dir)\n",
      "        fluxtream_upload('SnoreLab', ['SnoreIntensity'], data)\n",
      "        open(was_uploaded_path, 'w')    "
     ],
     "language": "python",
     "metadata": {},
     "outputs": [
      {
       "output_type": "stream",
       "stream": "stdout",
       "text": [
        "Looking for files of pattern /Users/rsargent/Downloads/snorelab*[0-9][0-9][0-9][0-9].zip;  found 9\n",
        "  snorelab-reports/snorelabsnorereport20sep2014 already exists\n",
        "  snorelab-reports/snorelabsnorereport21sep2014 already exists\n",
        "  snorelab-reports/snorelabsnorereport22sep2014 already exists\n",
        "  snorelab-reports/snorelabsnorereport23sep2014 already exists\n",
        "  snorelab-reports/snorelabsnorereport24sep2014 already exists\n",
        "  snorelab-reports/snorelabsnorereport25sep2014 already exists\n",
        "  snorelab-reports/snorelabsnorereport26sep2014 already exists\n",
        "  snorelab-reports/snorelabsnorereport28sep2014 already exists\n",
        "  snorelab-reports/snorelabsnorereport29sep2014 already exists\n",
        "\n",
        "Uploading new reports\n",
        "  snorelab-reports/snorelabsnorereport20sep2014 already uploaded\n",
        "  snorelab-reports/snorelabsnorereport21sep2014 already uploaded\n",
        "  snorelab-reports/snorelabsnorereport22sep2014 already uploaded\n",
        "  snorelab-reports/snorelabsnorereport23sep2014 already uploaded\n",
        "  snorelab-reports/snorelabsnorereport24sep2014 already uploaded\n",
        "  snorelab-reports/snorelabsnorereport25sep2014 already uploaded\n",
        "  snorelab-reports/snorelabsnorereport26sep2014 already uploaded\n",
        "  snorelab-reports/snorelabsnorereport28sep2014 already uploaded\n",
        "  snorelab-reports/snorelabsnorereport29sep2014 already uploaded\n"
       ]
      }
     ],
     "prompt_number": 19
    },
    {
     "cell_type": "code",
     "collapsed": false,
     "input": [],
     "language": "python",
     "metadata": {},
     "outputs": []
    }
   ],
   "metadata": {}
  }
 ]
}