{
 "metadata": {
  "name": "",
  "signature": "sha256:eccd8ad0518235f6055e8533bf5aa66ba8274ea74f8af4d7ab54c61e99f2a7ef"
 },
 "nbformat": 3,
 "nbformat_minor": 0,
 "worksheets": [
  {
   "cells": [
    {
     "cell_type": "code",
     "collapsed": false,
     "input": [
      "%%HTML\n",
      "<div id='out'></div>\n",
      "<script>\n",
      "function callback(msg) {\n",
      "   var ret = msg.content.data['text/plain'];\n",
      "   $('#out').text('Value: ' + ret);\n",
      "}\n",
      "IPython.notebook.kernel.execute('2+2', {iopub: {output: callback}}, {silent: false});\n",
      "</script>"
     ],
     "language": "python",
     "metadata": {},
     "outputs": [
      {
       "html": [
        "<div id='out'></div>\n",
        "<script>\n",
        "function callback(msg) {\n",
        "   var ret = msg.content.data['text/plain'];\n",
        "   $('#out').text('Value: ' + ret);\n",
        "}\n",
        "IPython.notebook.kernel.execute('2+2', {iopub: {output: callback}}, {silent: false});\n",
        "</script>"
       ],
       "metadata": {},
       "output_type": "display_data",
       "text": [
        "<IPython.core.display.HTML at 0x105ae5310>"
       ]
      }
     ],
     "prompt_number": 30
    },
    {
     "cell_type": "code",
     "collapsed": false,
     "input": [],
     "language": "python",
     "metadata": {},
     "outputs": []
    }
   ],
   "metadata": {}
  }
 ]
}