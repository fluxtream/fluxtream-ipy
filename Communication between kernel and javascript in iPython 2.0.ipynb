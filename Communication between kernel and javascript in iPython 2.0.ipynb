{
 "metadata": {
  "name": "",
  "signature": "sha256:d43c9c6d4766a460f5f14ab807bf173633fdc76a8668ce0b84b502ac3a2766de"
 },
 "nbformat": 3,
 "nbformat_minor": 0,
 "worksheets": [
  {
   "cells": [
    {
     "cell_type": "code",
     "collapsed": false,
     "input": [
      "%%HTML\n",
      "<div id='out'></div>\n",
      "<script>\n",
      "function callback(msg) {\n",
      "   var ret = msg.content.data['text/plain'];\n",
      "   $('#out').text('Value: ' + ret);\n",
      "}\n",
      "IPython.notebook.kernel.execute('2+2', {iopub: {output: callback}}, {silent: false});\n",
      "</script>"
     ],
     "language": "python",
     "metadata": {},
     "outputs": [
      {
       "html": [
        "<div id='out'></div>\n",
        "<script>\n",
        "function callback(msg) {\n",
        "   var ret = msg.content.data['text/plain'];\n",
        "   $('#out').text('Value: ' + ret);\n",
        "}\n",
        "IPython.notebook.kernel.execute('2+2', {iopub: {output: callback}}, {silent: false});\n",
        "</script>"
       ],
       "metadata": {},
       "output_type": "display_data",
       "text": [
        "<IPython.core.display.HTML at 0x105ae5a10>"
       ]
      }
     ],
     "prompt_number": 44
    },
    {
     "cell_type": "code",
     "collapsed": false,
     "input": [
      "# iframe_with_source wraps HTML+javascript into an iframe, to avoid DOM and javascript conflicts\n",
      "\n",
      "from IPython.display import HTML\n",
      "import json\n",
      "\n",
      "def iframe_with_source(source, height):\n",
      "    name = 'iframe-%d' % get_ipython().execution_count\n",
      "    source = json.dumps(source)\n",
      "    source = source.replace('</script', '</scr\"+\"ipt')\n",
      "    width = '100%'\n",
      "    height = '%spx' % height\n",
      "    template = \"\"\"\n",
      "<iframe id=\"%s\" style=\"width:%s; height:%s\"></iframe>\n",
      "<script>\n",
      "document.getElementById('%s').srcdoc = %s;\n",
      "</script>\n",
      "\"\"\"\n",
      "    # Fill in the %s slots with id, width, height, and the HTML source\n",
      "    return HTML(template % (name, width, height, name, source))"
     ],
     "language": "python",
     "metadata": {},
     "outputs": [],
     "prompt_number": 46
    },
    {
     "cell_type": "code",
     "collapsed": false,
     "input": [
      "# Talk to kernel from inside iframe\n",
      "\n",
      "source = \"\"\"\n",
      "<html>\n",
      "<head>\n",
      "<script src=\"http://ajax.googleapis.com/ajax/libs/jquery/1.11.1/jquery.min.js\"></script>\n",
      "<script>\n",
      "IPython = parent.IPython;\n",
      "function callback(msg) {\n",
      "   var ret = msg.content.data['text/plain'];\n",
      "   $('#out').text('Value: ' + ret);\n",
      "}\n",
      "IPython.notebook.kernel.execute('2+2', {iopub: {output: callback}}, {silent: false});\n",
      "</script>\n",
      "</head>\n",
      "<body>\n",
      "<div id=\"out\"></div>\n",
      "</html>\"\"\"\n",
      "\n",
      "height = 100  # pixels\n",
      "iframe_with_source(source, height)"
     ],
     "language": "python",
     "metadata": {},
     "outputs": [
      {
       "html": [
        "\n",
        "<iframe id=\"iframe-47\" style=\"width:100%; height:100px\"></iframe>\n",
        "<script>\n",
        "document.getElementById('iframe-47').srcdoc = \"\\n<html>\\n<head>\\n<script src=\\\"http://ajax.googleapis.com/ajax/libs/jquery/1.11.1/jquery.min.js\\\"></scr\"+\"ipt>\\n<script>\\nIPython = parent.IPython;\\nfunction callback(msg) {\\n   var ret = msg.content.data['text/plain'];\\n   $('#out').text('Value: ' + ret);\\n}\\nIPython.notebook.kernel.execute('2+2', {iopub: {output: callback}}, {silent: false});\\n</scr\"+\"ipt>\\n</head>\\n<body>\\n<div id=\\\"out\\\"></div>\\n</html>\";\n",
        "</script>\n"
       ],
       "metadata": {},
       "output_type": "pyout",
       "prompt_number": 47,
       "text": [
        "<IPython.core.display.HTML at 0x105ae5fd0>"
       ]
      }
     ],
     "prompt_number": 47
    },
    {
     "cell_type": "code",
     "collapsed": false,
     "input": [
      "hithere"
     ],
     "language": "python",
     "metadata": {},
     "outputs": [
      {
       "metadata": {},
       "output_type": "pyout",
       "prompt_number": 39,
       "text": [
        "99"
       ]
      }
     ],
     "prompt_number": 39
    },
    {
     "cell_type": "code",
     "collapsed": false,
     "input": [],
     "language": "python",
     "metadata": {},
     "outputs": []
    }
   ],
   "metadata": {}
  }
 ]
}