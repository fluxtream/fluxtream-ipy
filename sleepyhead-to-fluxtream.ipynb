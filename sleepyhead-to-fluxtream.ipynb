{
 "metadata": {
  "name": "",
  "signature": "sha256:f2e8f1eb0730d793df6352e21975751406a82618f6bdc252d84f260a4199f5db"
 },
 "nbformat": 3,
 "nbformat_minor": 0,
 "worksheets": [
  {
   "cells": [
    {
     "cell_type": "code",
     "collapsed": false,
     "input": [
      "import re, requests, StringIO\n",
      "from dateutil import tz"
     ],
     "language": "python",
     "metadata": {},
     "outputs": [],
     "prompt_number": 1
    },
    {
     "cell_type": "markdown",
     "metadata": {},
     "source": [
      "Load Fluxtream library and authenticate\n",
      "---------------------------------------"
     ]
    },
    {
     "cell_type": "code",
     "collapsed": false,
     "input": [
      "def exec_ipynb(url):\n",
      "    import json, re, urllib2\n",
      "    nb = (urllib2.urlopen(url) if re.match(r'https?:', url) else open(url)).read()\n",
      "    exec '\\n'.join([''.join(cell['input']) for cell in json.loads(nb)['worksheets'][0]['cells'] if cell['cell_type'] == 'code']) in globals()\n",
      "\n",
      "exec_ipynb('Fluxtream-Library.ipynb')\n",
      "fluxtream_login()"
     ],
     "language": "python",
     "metadata": {},
     "outputs": [
      {
       "html": [
        "\n",
        "Fluxtream username: <input id=\"fluxtream_username\" type=\"text\"></input><br>\n",
        "Fluxtream password: <input id=\"fluxtream_password\" type=\"password\"></input><br>\n",
        "<button id = \"fluxtream_authenticate\">Authenticate</button> <span id=\"fluxtream_auth_result\"></span>\n",
        "<script>\n",
        "\n",
        "// Send username and password to python\n",
        "function fluxtream_authenticate(username, password, callback) {\n",
        "  cmd =  'fluxtream_authenticate(' + JSON.stringify(username) + ',' +\n",
        "         JSON.stringify(password) + ')'\n",
        "  console.log(cmd);\n",
        "  function cb(msg) {\n",
        "    console.log(msg);\n",
        "    console.log(msg.content.data['text/plain'] == 'True');\n",
        "    callback(msg.content.data['text/plain'] == 'True')\n",
        "  }\n",
        "  IPython.notebook.kernel.execute(cmd, \n",
        "                                  {iopub: {output: cb}}, {silent: false});\n",
        "}\n",
        "\n",
        "$('#fluxtream_authenticate').click(function() {\n",
        "    $('#fluxtream_auth_result').text('...');\n",
        "    fluxtream_authenticate($('#fluxtream_username').val(),\n",
        "                           $('#fluxtream_password').val(),\n",
        "                           function(success) {\n",
        "                             $('#fluxtream_auth_result').text(success ? 'Success' : 'Failed');\n",
        "                           });\n",
        "});\n",
        "</script>\n"
       ],
       "metadata": {},
       "output_type": "pyout",
       "prompt_number": 2,
       "text": [
        "<IPython.core.display.HTML at 0x1066c5fd0>"
       ]
      }
     ],
     "prompt_number": 2
    },
    {
     "cell_type": "code",
     "collapsed": false,
     "input": [
      "import datetime, exifread, glob, json, os, pprint, subprocess\n",
      "from dateutil import tz\n",
      "\n",
      "# Keep track of where you save the files, and enter in the next section\n",
      "import httplib, urllib, time, base64, string, datetime, json, csv, calendar\n",
      "from dateutil import tz\n",
      "from dateutil import parser\n",
      "\n",
      "# Replace non alnum chars with _\n",
      "def sanitize_channel_name(name):\n",
      "    return re.sub(r'\\W+', '_', name).strip('_')\n",
      "\n",
      "def epoch_time(dt):\n",
      "    epoch = datetime.datetime(1970, 1, 1, tzinfo=tz.tzutc())\n",
      "    return (dt - epoch).total_seconds()    \n",
      "\n",
      "# Returns 2D array of data suitable for posting to Fluxtream API\n",
      "def sleepyhead_csv_to_channel_map(filename, timezone):\n",
      "    # Sleepyhead channel map maps channel name to a 2D array of data\n",
      "    # of the form [[unixtime0, value0], [unixtime1, value1],...]\n",
      "    channel_map = {}\n",
      "    \n",
      "    reader = csv.reader(open(filename,'rb'), delimiter=',')\n",
      "\n",
      "    # skip header\n",
      "    header = reader.next()\n",
      "\n",
      "    rowcount = 0;\n",
      "    data = []\n",
      "    \n",
      "    for row in reader:\n",
      "        # In sleepyhead output, the zeroth column is the datetime of the start of sleep, the second column is the event type \n",
      "        # and the third column is a value  \n",
      "        datetime_str= row[0]\n",
      "        event_name = row[2]\n",
      "        value = float(row[3])\n",
      "        dt = datetime.datetime.strptime(datetime_str, '%Y-%m-%dT%H:%M:%S').replace(tzinfo=timezone)\n",
      "        \n",
      "        if event_name in channel_map:\n",
      "            channel_map[event_name].append([epoch_time(dt), value])\n",
      "        else:\n",
      "            channel_map[event_name]=[[epoch_time(dt), value]]\n",
      "\n",
      "        #print \"%s (%d): %s %f [%d]\" % (dt, epoch_time(dt), event_name, value, len(channel_map[event_name]))\n",
      "        \n",
      "    return channel_map\n",
      "\n",
      "def sleepyhead_channel_map_to_fluxtream(device_name,channel_map):\n",
      "    for event_name in channel_map:\n",
      "        ch_name = sanitize_channel_name(event_name)\n",
      "        fluxtream_upload(device_name, [ch_name], channel_map[event_name])\n",
      "        print \"Uploaded %d samples to %s\" %(len(channel_map[event_name]), ch_name)"
     ],
     "language": "python",
     "metadata": {},
     "outputs": [],
     "prompt_number": 9
    },
    {
     "cell_type": "markdown",
     "metadata": {},
     "source": [
      "Read in CSV from filesystem\n",
      "------------------------------------"
     ]
    },
    {
     "cell_type": "code",
     "collapsed": false,
     "input": [
      "device_name = 'CPAP'\n",
      "timezone = tz.gettz('America/New York')\n",
      "\n",
      "csv_path = '/Users/anne/education/bodytrack/data/cpap/sleepyhead/SleepyHead_Username_Details_2015-03-25_2015-03-31.csv'\n",
      "print 'Reading CSV from %s...' % csv_path\n",
      "\n",
      "channel_map = sleepyhead_csv_to_channel_map(csv_path,timezone)\n",
      "sleepyhead_channel_map_to_fluxtream(device_name,channel_map)"
     ],
     "language": "python",
     "metadata": {},
     "outputs": [
      {
       "output_type": "stream",
       "stream": "stdout",
       "text": [
        "Reading CSV from /Users/anne/education/bodytrack/data/cpap/sleepyhead/SleepyHead_Username_Details_2015-03-25_2015-03-31.csv...\n",
        "Uploading 16 data points to rsargent's account on server fluxtream.org, device CPAP, channels ['EPAP']\n",
        "Uploaded 16 samples to EPAP"
       ]
      },
      {
       "output_type": "stream",
       "stream": "stdout",
       "text": [
        "\n",
        "Uploading 24 data points to rsargent's account on server fluxtream.org, device CPAP, channels ['Obstructive']\n",
        "Uploaded 24 samples to Obstructive"
       ]
      },
      {
       "output_type": "stream",
       "stream": "stdout",
       "text": [
        "\n",
        "Uploading 71 data points to rsargent's account on server fluxtream.org, device CPAP, channels ['RERA']\n",
        "Uploaded 71 samples to RERA"
       ]
      },
      {
       "output_type": "stream",
       "stream": "stdout",
       "text": [
        "\n",
        "Uploading 84 data points to rsargent's account on server fluxtream.org, device CPAP, channels ['Hypopnea']\n",
        "Uploaded 84 samples to Hypopnea"
       ]
      },
      {
       "output_type": "stream",
       "stream": "stdout",
       "text": [
        "\n",
        "Uploading 26 data points to rsargent's account on server fluxtream.org, device CPAP, channels ['PressurePulse']\n",
        "Uploaded 26 samples to PressurePulse"
       ]
      },
      {
       "output_type": "stream",
       "stream": "stdout",
       "text": [
        "\n",
        "Uploading 16 data points to rsargent's account on server fluxtream.org, device CPAP, channels ['IPAP']\n",
        "Uploaded 16 samples to IPAP"
       ]
      },
      {
       "output_type": "stream",
       "stream": "stdout",
       "text": [
        "\n",
        "Uploading 8 data points to rsargent's account on server fluxtream.org, device CPAP, channels ['ClearAirway']\n",
        "Uploaded 8 samples to ClearAirway"
       ]
      },
      {
       "output_type": "stream",
       "stream": "stdout",
       "text": [
        "\n",
        "Uploading 222 data points to rsargent's account on server fluxtream.org, device CPAP, channels ['VSnore2']\n",
        "Uploaded 222 samples to VSnore2"
       ]
      },
      {
       "output_type": "stream",
       "stream": "stdout",
       "text": [
        "\n"
       ]
      }
     ],
     "prompt_number": 10
    },
    {
     "cell_type": "code",
     "collapsed": false,
     "input": [],
     "language": "python",
     "metadata": {},
     "outputs": []
    }
   ],
   "metadata": {}
  }
 ]
}