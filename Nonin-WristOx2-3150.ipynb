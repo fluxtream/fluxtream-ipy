{
 "metadata": {
  "name": "",
  "signature": "sha256:e493f21c9706996b628c993a66baffbb881460cc3602e637126bf7cacd132e06"
 },
 "nbformat": 3,
 "nbformat_minor": 0,
 "worksheets": [
  {
   "cells": [
    {
     "cell_type": "markdown",
     "metadata": {},
     "source": [
      "# Operating and downloading data from the Nonin WristOx2 3150 on a Mac"
     ]
    },
    {
     "cell_type": "code",
     "collapsed": false,
     "input": [
      "from pylab import *\n",
      "%matplotlib inline"
     ],
     "language": "python",
     "metadata": {},
     "outputs": [],
     "prompt_number": 1
    },
    {
     "cell_type": "code",
     "collapsed": false,
     "input": [
      "# Note:  if you are missing the \"serial\" package, you'll want to install pySerial\n",
      "# On a mac, we've had luck installing by typing\n",
      "# easy_install pySerial\n",
      "# from the commandline\n",
      "\n",
      "\n",
      "# Interface to Nonin 3150\n",
      "#\n",
      "# Using references from Nonin:\n",
      "#    \"3150-Specifications_7970_000-Rev-A.pdf\"\n",
      "#    \"3150 Commands.docx\" (includes format of memory playback)\n",
      "\n",
      "from collections import OrderedDict\n",
      "import datetime\n",
      "import glob\n",
      "from dateutil import tz\n",
      "import serial\n",
      "import struct\n",
      "\n",
      "class Nonin3150:\n",
      "    \"\"\"Interface to Nonin WristOx2 3150\"\"\"\n",
      "    \n",
      "    fields = OrderedDict([\n",
      "        ('Reserved1',                    'c'), # Length 1.  \n",
      "        ('BluetoothEnable',              'c'), # ASCII len 1. enabled:'1', disabled:'2'\n",
      "        ('ActivationOption',             'c'), # ASCII len 1.  always log:'1', use start/stop time:'2', display only:'3'\n",
      "        ('StorageRate',                  'c'), # ASCII len 1.  every second:'1', 2 seconds: '2', 4 seconds: '4'\n",
      "        ('DisplayOption',                'c'), # ASCII len 1.  full display while logging:'1', partial display:'2'\n",
      "        ('StartTime1',                 '10s'), # ASCII YYMMDDhhmm.  Only used for ActivationOption '2'\n",
      "        ('StopTime1',                  '10s'), # ASCII YYMMDDhhmm.  Only used for ActivationOption '2'\n",
      "        ('StartTime2',                 '10s'), # ASCII YYMMDDhhmm.  Only used for ActivationOption '2'\n",
      "        ('StopTime2',                  '10s'), # ASCII YYMMDDhhmm.  Only used for ActivationOption '2'\n",
      "        ('StartTime3',                 '10s'), # ASCII YYMMDDhhmm.  Only used for ActivationOption '2'\n",
      "        ('StopTime3',                  '10s'), # ASCII YYMMDDhhmm.  Only used for ActivationOption '2'\n",
      "        ('ProgrammableIdentification', '50s'), # ASCII len 50.  Arbitrary ID settable by user\n",
      "        ('SoftwarePartNumber',          '4s'), # ASCII len 50.  First 4 digits\n",
      "        ('SoftwareRevision',            '3s'), # ASCII len 3\n",
      "        ('SoftwareRevDate',             '6s'), # ASCII YYMMDD\n",
      "        ('Reserved2',                   '6s'), # Length 6\n",
      "    ])\n",
      "\n",
      "    format = ''.join(fields.values())\n",
      "    \n",
      "    date_format = '%Y-%m-%d %H:%M:%S %Z'\n",
      "    \n",
      "    def __init__(self):\n",
      "        candidates = glob.glob('/dev/cu.usbmodem*')\n",
      "        if len(candidates) == 0:\n",
      "            raise Exception(\"Can't find Nonin device.  Please be sure it's plugged in using the USB cable.\")\n",
      "        if len(candidates) > 1:\n",
      "            raise Exception(\"Hmm, found multiple USB serial ports.  Need to address this issue in the software.\")\n",
      "        self.device_path = candidates[0]\n",
      "        print 'Opening %s...' % self.device_path\n",
      "        self.device = serial.Serial(self.device_path, timeout=1)\n",
      "        print 'Opened %s' % self.device_path\n",
      "        config = self.get_config()\n",
      "        print ('Found Nonin 3150 at %s, software %s.%s.20%s' % \n",
      "               (self.device_path, config['SoftwarePartNumber'], \n",
      "                config['SoftwareRevision'], config['SoftwareRevDate']))\n",
      "        time = self.get_current_time()\n",
      "        print 'Current time as reported by device in GMT: %s' % time.strftime(self.date_format)\n",
      "        localtime = time.astimezone(tz.tzlocal())\n",
      "        print '  (Converted to your current local timezone: %s)' % localtime.strftime(self.date_format)\n",
      "    \n",
      "    def get_config(self):\n",
      "        self.device.flushInput()\n",
      "        self.device.write('CFG?\\r\\n')\n",
      "        self.require_ack()\n",
      "        data = self.require_bytes(134)\n",
      "        checksum = struct.unpack('>H', self.require_bytes(2))[0]\n",
      "        if checksum != sum([ord(ch) for ch in data]):\n",
      "            raise Exception('CFG? incorrect checksum')\n",
      "        unpacked = struct.unpack(self.format, data)\n",
      "        return OrderedDict(zip(self.fields.keys(), unpacked))\n",
      "    \n",
      "    def set_config(self, config):\n",
      "        if config.keys() != self.fields.keys():\n",
      "            raise Exception('config must be an OrderedDict with keys as returned from get_config')\n",
      "        data = struct.pack(self.format, *config.values())\n",
      "        checksum = struct.pack('>H', sum([ord(ch) for ch in data]))\n",
      "        self.device.flushInput()\n",
      "        self.device.write('CFG=' + data + checksum + '\\r\\n')\n",
      "        self.require_ack()\n",
      "        self.require_crlf()\n",
      "        \n",
      "    def enable_logging(self, interval=1):\n",
      "        config = self.get_config()\n",
      "        \n",
      "        # Always log when sensor detects signal\n",
      "        config['ActivationOption'] = '1'\n",
      "        \n",
      "        interval = int(interval)\n",
      "        valid_intervals = [1,2,4]\n",
      "        if not interval in valid_intervals:\n",
      "            raise Exception('interval must be one of %s' % valid_intervals)\n",
      "        config['StorageRate'] = str(interval)\n",
      "        \n",
      "        self.set_config(config)\n",
      "    \n",
      "    # By convention, this library always stores time on the 3150 in UTC, since the 3150\n",
      "    # supports neither daylight savings time nor timezones.\n",
      "    \n",
      "    def get_current_time(self):\n",
      "        self.device.flushInput()\n",
      "        self.device.write('DTM?\\r\\n')\n",
      "        self.require_ack();\n",
      "        time = self.require_bytes(12)\n",
      "        self.require_crlf();\n",
      "        return datetime.datetime.strptime(time, '%y%m%d%H%M%S').replace(tzinfo=tz.tzutc())\n",
      "    \n",
      "    def set_current_time(self):\n",
      "        self.device.flushInput()\n",
      "        # Write time in UTC, format YYMMDDhhmmss\n",
      "        self.device.write(datetime.datetime.utcnow().strftime('DTM=%y%m%d%H%M%S\\r\\n'))\n",
      "        self.require_ack()\n",
      "        self.require_crlf()\n",
      "    \n",
      "    def get_header(self):\n",
      "        self.device.flushInput()\n",
      "        self.device.write('HDR?\\r\\n')\n",
      "        self.require_ack()\n",
      "        return self.read_until_timeout()\n",
      "    \n",
      "    def clear_sessions(self):\n",
      "        self.device.flushInput()\n",
      "        self.device.write(datetime.datetime.utcnow().strftime('MCL!\\r\\n'))\n",
      "        self.require_ack()\n",
      "        self.require_crlf()\n",
      "        \n",
      "    def read_sessions(self):\n",
      "        self.device.flushInput()\n",
      "        self.device.write('MPB?\\r\\n')\n",
      "        self.require_ack()\n",
      "        print 'Reading memory from Nonin...'\n",
      "        memory = self.read_until_timeout()\n",
      "        print 'Read %d bytes' % len(memory)\n",
      "        if len(memory) % 3 != 0:\n",
      "            raise Exception('MPB?: Invalid memory length read')\n",
      "    \n",
      "        # Check and strip checksums\n",
      "        data = []\n",
      "        for i in range(0, len(memory) / 3):\n",
      "            bytes = [ord(ch) for ch in memory[i * 3 : (i + 1) * 3]]\n",
      "            if (bytes[0] + bytes[1]) % 256 != bytes[2]:\n",
      "                raise Exception('MPB?: invalid checksum in triplet %d' % i)\n",
      "            data.append((bytes[0], bytes[1]))\n",
      "\n",
      "        # Decode sessions\n",
      "        header = (254, 253)\n",
      "        i = 0\n",
      "        sessions = []\n",
      "        while i < len(data):\n",
      "            if data[i] != header:\n",
      "                raise Exception('MPB?: invalid header at triplet %d' % i)\n",
      "            print 'Session header starting at triplet %d' % i\n",
      "            i += 1\n",
      "    \n",
      "            (seconds_per_sample, format) = data[i]\n",
      "            if format != 2:\n",
      "                raise Exception('MPB?: unknown format at triplet %d' % i)\n",
      "            i += 1\n",
      "            print '  Seconds per sample: %d' % seconds_per_sample\n",
      "    \n",
      "            current_time = self.decode_memory_time(data, i); i += 3\n",
      "        \n",
      "            # Don't read start and stop time unless we confirm there are samples\n",
      "            # The Nonin tends to have an empty session, with invalid start and stop time\n",
      "            stop_time_index = i; i += 3;\n",
      "            start_time_index = i; i += 3;\n",
      "    \n",
      "            session = []\n",
      "            while i < len(data) and data[i] != header:\n",
      "                if len(session) == 0:\n",
      "                    # We have a non-empty session.  Go ahead and parse the times\n",
      "                    # Samples are reversed in time\n",
      "                    sample_time = stop_time = self.decode_memory_time(data, stop_time_index);\n",
      "                    start_time = self.decode_memory_time(data, start_time_index);\n",
      "    \n",
      "                    if start_time and stop_time:\n",
      "                        print '  Time range: %s to %s' % (start_time.strftime(self.date_format),\n",
      "                                                          stop_time.strftime(self.date_format))\n",
      "                        valid = True\n",
      "                    else:\n",
      "                        print '  Invalid start or stop time'\n",
      "                        valid = False\n",
      "\n",
      "                (pulse_rate, spo2) = data[i]; i += 1\n",
      "                if pulse_rate == 255:\n",
      "                    pulse_rate = None\n",
      "                elif pulse_rate > 200:\n",
      "                    # Values over 200 are compressed to handle high pulse rates\n",
      "                    pulse_rate = 200 + (pulse_rate - 200) * 2\n",
      "                if spo2 == 255:\n",
      "                    spo2 = None\n",
      "                session.append((sample_time, pulse_rate, spo2))\n",
      "                if sample_time:\n",
      "                    sample_time -= datetime.timedelta(seconds=1)\n",
      "            session.reverse()\n",
      "                    \n",
      "            print '  %s data samples' % len(session)\n",
      "            if valid and len(session) > 0:\n",
      "                sessions.append(session)\n",
      "        \n",
      "        print 'Total of %d valid sessions' % len(sessions)\n",
      "        return sessions\n",
      "\n",
      "    @staticmethod\n",
      "    def decode_memory_time(memory, i):\n",
      "        [(month, day), (year, minute), (second, hour)] = memory[i : i + 3]\n",
      "        try:\n",
      "            return datetime.datetime(year + 2000, month, day, hour, minute, second, tzinfo=tz.tzutc())\n",
      "        except:\n",
      "            print \"Couldn't make a time from YY=%d MM=%d DD=%d HH:MM:SS=%d:%d:%d\" % (year, month, day, hour, minute, second)\n",
      "            return None\n",
      "\n",
      "    def read_until_timeout(self):\n",
      "        ret = ''\n",
      "        while True:\n",
      "            read = self.device.read(1000)\n",
      "            if read == '':\n",
      "                return ret\n",
      "            ret += read\n",
      "            \n",
      "    def require_bytes(self, n):\n",
      "        ret = ''\n",
      "        while len(ret) < n:\n",
      "            read = self.device.read(n - len(ret))\n",
      "            ret += read\n",
      "            if read == '':\n",
      "                raise Exception('Expected %d bytes but only received %d' % (n, len(ret)))\n",
      "        return ret\n",
      "    \n",
      "    def require_ack(self):\n",
      "        if self.device.read(1) != '\\x06':\n",
      "            raise Exception('Expected ACK not received')\n",
      "    \n",
      "    def require_crlf(self):\n",
      "        if self.device.read(2) != '\\r\\n':\n",
      "            raise Exception('Expected CRLF not received')"
     ],
     "language": "python",
     "metadata": {},
     "outputs": [],
     "prompt_number": 29
    },
    {
     "cell_type": "code",
     "collapsed": false,
     "input": [
      "nonin = Nonin3150()"
     ],
     "language": "python",
     "metadata": {},
     "outputs": [
      {
       "output_type": "stream",
       "stream": "stdout",
       "text": [
        "Opening /dev/cu.usbmodemfd121...\n",
        "Opened /dev/cu.usbmodemfd121\n",
        "Found Nonin 3150 at /dev/cu.usbmodemfd121, software 7813.026.20130702\n",
        "Current time as reported by device in GMT: 2014-08-18 06:05:38 UTC\n",
        "  (Converted to your current local timezone: 2014-08-17 23:05:38 PDT)\n"
       ]
      }
     ],
     "prompt_number": 30
    },
    {
     "cell_type": "code",
     "collapsed": false,
     "input": [
      "nonin.enable_logging()"
     ],
     "language": "python",
     "metadata": {},
     "outputs": [],
     "prompt_number": 31
    },
    {
     "cell_type": "code",
     "collapsed": false,
     "input": [
      "# Set time on Nonin from laptop, using GMT timezone\n",
      "current_time = nonin.get_current_time()\n",
      "print 'Before setting Nonin clock:'\n",
      "print current_time.strftime('   Time on Nonin, GMT: %Y-%m-%d %H:%M:%S UDT')\n",
      "print current_time.astimezone(tz.tzlocal()).strftime('   Time on Nonin, translated to local timezone: %Y-%m-%d %H:%M:%S%z')\n",
      "print 'Setting clock on Nonin to current host time...'\n",
      "nonin.set_current_time()\n",
      "current_time = nonin.get_current_time()\n",
      "print 'After setting Nonin clock:'\n",
      "print current_time.strftime('   Time on Nonin, GMT: %Y-%m-%d %H:%M:%S UDT')\n",
      "print current_time.astimezone(tz.tzlocal()).strftime('   Time on Nonin, translated to local timezone: %Y-%m-%d %H:%M:%S%z')"
     ],
     "language": "python",
     "metadata": {},
     "outputs": [
      {
       "output_type": "stream",
       "stream": "stdout",
       "text": [
        "Before setting Nonin clock:\n",
        "   Time on Nonin, GMT: 2014-08-18 06:05:40 UDT\n",
        "   Time on Nonin, translated to local timezone: 2014-08-17 23:05:40-0700\n",
        "Setting clock on Nonin to current host time...\n",
        "After setting Nonin clock:\n",
        "   Time on Nonin, GMT: 2014-08-18 06:05:41 UDT\n",
        "   Time on Nonin, translated to local timezone: 2014-08-17 23:05:41-0700\n"
       ]
      }
     ],
     "prompt_number": 32
    },
    {
     "cell_type": "code",
     "collapsed": false,
     "input": [
      "sessions = nonin.read_sessions()"
     ],
     "language": "python",
     "metadata": {},
     "outputs": [
      {
       "output_type": "stream",
       "stream": "stdout",
       "text": [
        "Reading memory from Nonin...\n",
        "Read 252726 bytes"
       ]
      },
      {
       "output_type": "stream",
       "stream": "stdout",
       "text": [
        "\n",
        "Session header starting at triplet 0"
       ]
      },
      {
       "output_type": "stream",
       "stream": "stdout",
       "text": [
        "\n",
        "  Seconds per sample: 1\n",
        "  Time range: 2014-08-17 05:02:12 UTC to 2014-08-17 14:44:45 UTC\n",
        "  34954 data samples"
       ]
      },
      {
       "output_type": "stream",
       "stream": "stdout",
       "text": [
        "\n",
        "Session header starting at triplet 34965\n",
        "  Seconds per sample: 1\n",
        "  Time range: 2014-08-13 05:55:09 UTC to 2014-08-13 13:01:10 UTC\n",
        "  25562 data samples\n",
        "Session header starting at triplet 60538\n",
        "  Seconds per sample: 1\n",
        "  Time range: 2014-08-12 03:59:49 UTC to 2014-08-12 10:28:17 UTC\n",
        "  23309 data samples"
       ]
      },
      {
       "output_type": "stream",
       "stream": "stdout",
       "text": [
        "\n",
        "Session header starting at triplet 83858\n",
        "  Seconds per sample: 1\n",
        "  Time range: 2014-08-11 22:29:35 UTC to 2014-08-11 22:33:50 UTC\n",
        "  256 data samples\n",
        "Session header starting at triplet 84125\n",
        "  Seconds per sample: 1\n",
        "  Time range: 2014-08-11 22:27:45 UTC to 2014-08-11 22:29:19 UTC\n",
        "  95 data samples\n",
        "Session header starting at triplet 84231\n",
        "  Seconds per sample: 1\n",
        "  0 data samples\n",
        "Total of 5 valid sessions\n"
       ]
      }
     ],
     "prompt_number": 33
    },
    {
     "cell_type": "code",
     "collapsed": false,
     "input": [
      "import itertools\n",
      "samples = list(itertools.chain(*sessions))\n",
      "print len(samples), 'samples'\n",
      "\n",
      "fig, ax = plt.subplots(figsize=(40,6))\n",
      "\n",
      "times = [sample[0] for sample in samples]\n",
      "\n",
      "ax.plot(times, [sample[1] for sample in samples], label=\"Pulse\")\n",
      "ax.plot(times, [sample[2] for sample in samples], label=\"SpO2\")\n",
      "\n",
      "# Legend above plot\n",
      "ax.legend(loc='upper center', bbox_to_anchor=(0.5, 1.10),\n",
      "          fancybox=True, shadow=True, ncol=5)\n",
      "\n",
      "# plt.gcf().autofmt_xdate()  # Nice dates on X axis\n",
      "\n",
      "#ax.xaxis.set_major_formatter(FuncFormatter(lambda x, pos: '%.6f' % x))\n",
      "\n",
      "ax.grid(alpha=0.5, linestyle='dashed', linewidth=0.5) # Grid\n",
      "\n",
      "ax.xaxis.set_major_formatter(matplotlib.dates.DateFormatter('%m/%d %H:%M:%S %Z', tz=tz.tzlocal()))\n",
      "plt.xticks(rotation='vertical')"
     ],
     "language": "python",
     "metadata": {},
     "outputs": [
      {
       "output_type": "stream",
       "stream": "stdout",
       "text": [
        "84176 samples\n"
       ]
      },
      {
       "metadata": {},
       "output_type": "pyout",
       "prompt_number": 34,
       "text": [
        "(array([ 735457.,  735458.,  735459.,  735460.,  735461.,  735462.]),\n",
        " <a list of 6 Text xticklabel objects>)"
       ]
      },
      {
       "metadata": {},
       "output_type": "display_data",
       "png": "[encoded data removed]",
       "text": [
        "<matplotlib.figure.Figure at 0x10b221dd0>"
       ]
      }
     ],
     "prompt_number": 34
    },
    {
     "cell_type": "code",
     "collapsed": false,
     "input": [
      "from IPython.html import widgets # Widget definitions\n",
      "from IPython.display import display # Used to display widgets in the notebook\n",
      "\n",
      "password = ''\n",
      "\n",
      "def set_password(this):\n",
      "    global username, username_widget, password, password_widget\n",
      "    username = username_widget.value\n",
      "    password = password_widget.value\n",
      "    password_widget.value = ''\n",
      "\n",
      "\n",
      "display(widgets.HTMLWidget(value='Username'))\n",
      "username_widget = widgets.TextWidget()\n",
      "display(username_widget)\n",
      "display(widgets.HTMLWidget(value='Password'))\n",
      "password_widget = widgets.TextWidget()\n",
      "display(password_widget)\n",
      "\n",
      "set_login_button = widgets.ButtonWidget(description='Set')\n",
      "set_login_button.on_click(set_password)\n",
      "display(set_login_button)"
     ],
     "language": "python",
     "metadata": {},
     "outputs": [],
     "prompt_number": 36
    },
    {
     "cell_type": "code",
     "collapsed": false,
     "input": [
      "# Concatenate all the sessions into a single list of samples\n",
      "samples = list(itertools.chain(*sessions))\n",
      "\n",
      "# April 2014:  Bug in fluxtream.org prevents uploading samples with nulls;  for now, filter out None's\n",
      "# We can remove these 3 lines once that's fixed\n",
      "print '%d samples' % len(samples)\n",
      "samples = [sample for sample in samples if not None in sample]\n",
      "print '%d samples after filtering out samples containing None' % len(samples)\n",
      "\n",
      "def epoch_time(dt):\n",
      "    epoch = datetime.datetime(1970, 1, 1, tzinfo=tz.tzutc())\n",
      "    return (dt - epoch).total_seconds()    \n",
      "\n",
      "# Convert timestamps to epoch time\n",
      "\n",
      "print 'Data has %d samples' % len(samples)\n",
      "data = [[epoch_time(sample[0]), sample[1], sample[2]] for sample in samples]\n",
      "print 'Excerpt:', data[0:10]"
     ],
     "language": "python",
     "metadata": {},
     "outputs": [
      {
       "output_type": "stream",
       "stream": "stdout",
       "text": [
        "84176 samples\n",
        "83766 samples after filtering out samples containing None"
       ]
      },
      {
       "output_type": "stream",
       "stream": "stdout",
       "text": [
        "\n",
        "Data has 83766 samples\n",
        "Excerpt:"
       ]
      },
      {
       "output_type": "stream",
       "stream": "stdout",
       "text": [
        " [[1408251741.0, 82, 93], [1408251742.0, 79, 93], [1408251743.0, 83, 93], [1408251744.0, 84, 92], [1408251745.0, 85, 92], [1408251746.0, 85, 92], [1408251747.0, 85, 92], [1408251748.0, 85, 92], [1408251749.0, 85, 92], [1408251750.0, 85, 92]]\n"
       ]
      }
     ],
     "prompt_number": 21
    },
    {
     "cell_type": "code",
     "collapsed": false,
     "input": [
      "import base64\n",
      "import json\n",
      "import httplib\n",
      "import urllib\n",
      "\n",
      "user_agent = 'Nonin3150 uploader'\n",
      "server = 'fluxtream.org'\n",
      "dev_nickname = 'Nonin3150'\n",
      "channel_names = ['Pulse', 'SpO2']\n",
      "\n",
      "post_fields = {\n",
      "    'dev_nickname': dev_nickname,\n",
      "    'channel_names': json.dumps(channel_names),\n",
      "    'data': json.dumps(data)\n",
      "}\n",
      "    \n",
      "webservice = httplib.HTTP(server)\n",
      "webservice.putrequest('POST', '/api/bodytrack/upload')\n",
      "\n",
      "webservice.putheader('User-Agent', user_agent)\n",
      "webservice.putheader('Content-type', 'application/x-www-form-urlencoded')\n",
      "\n",
      "encoded_fields = urllib.urlencode(post_fields)\n",
      "webservice.putheader('Content-length', \"%d\" % len(encoded_fields))\n",
      "\n",
      "auth = base64.encodestring('%s:%s' % (username, password)).strip()\n",
      "webservice.putheader('Authorization', 'Basic %s' % auth)\n",
      "\n",
      "webservice.endheaders()\n",
      "\n",
      "print datetime.datetime.now().strftime('Current timestamp: %Y-%m-%d %H:%M:%S')\n",
      "print 'Uploading %d samples' % (len(samples))\n",
      "webservice.send(encoded_fields)\n",
      "\n",
      "# get the response\n",
      "statuscode, statusmessage, header = webservice.getreply()\n",
      "print \"Response: \", statuscode, statusmessage\n",
      "res = webservice.getfile().read()\n",
      "print 'Content: ', res\n"
     ],
     "language": "python",
     "metadata": {},
     "outputs": [
      {
       "output_type": "stream",
       "stream": "stdout",
       "text": [
        "Current timestamp: 2014-08-17 23:01:01\n",
        "Uploading 83766 samples\n",
        "Response: "
       ]
      },
      {
       "output_type": "stream",
       "stream": "stdout",
       "text": [
        " 200 OK\n",
        "Content:  {\"result\":\"OK\",\"message\":\"Upload successful!\",\"payload\":{\"successful_records\":\"1\",\"failed_records\":\"0\"}}\n"
       ]
      }
     ],
     "prompt_number": 22
    },
    {
     "cell_type": "code",
     "collapsed": false,
     "input": [
      "# Uncomment and evaluate this when you want to clear out the data from your Nonin\n",
      "# nonin.clear_sessions()"
     ],
     "language": "python",
     "metadata": {},
     "outputs": [],
     "prompt_number": 12
    }
   ],
   "metadata": {}
  }
 ]
}